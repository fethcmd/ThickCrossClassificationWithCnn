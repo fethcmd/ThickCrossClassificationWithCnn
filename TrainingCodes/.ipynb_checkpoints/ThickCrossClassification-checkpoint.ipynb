{
 "cells": [
  {
   "cell_type": "markdown",
   "id": "b179c648",
   "metadata": {},
   "source": [
    "# IMPORT"
   ]
  },
  {
   "cell_type": "code",
   "execution_count": null,
   "id": "4ef736b1",
   "metadata": {},
   "outputs": [],
   "source": [
    "from keras.models import Sequential\n",
    "from keras.layers import Dense, Dropout, Flatten\n",
    "from keras.layers import Conv2D, MaxPooling2D\n",
    "from keras.preprocessing.image import ImageDataGenerator"
   ]
  },
  {
   "cell_type": "markdown",
   "id": "f7a2177f",
   "metadata": {},
   "source": [
    "# GET IMAGES"
   ]
  },
  {
   "cell_type": "code",
   "execution_count": null,
   "id": "fe0218c6",
   "metadata": {},
   "outputs": [],
   "source": [
    "train_datagen = ImageDataGenerator(rescale = 1./255,\n",
    "                                   horizontal_flip = True)\n",
    "\n",
    "test_datagen = ImageDataGenerator(rescale = 1./255,\n",
    "                                  horizontal_flip = True)\n",
    "\n",
    "train = train_datagen.flow_from_directory('Images/train',\n",
    "                                          target_size = (100, 100),\n",
    "                                          color_mode=\"grayscale\",\n",
    "                                          batch_size = 4,\n",
    "                                          class_mode= \"categorical\")\n",
    "\n",
    "test = test_datagen.flow_from_directory('Images/test',\n",
    "                                        target_size = (100, 100),\n",
    "                                        color_mode=\"grayscale\",\n",
    "                                        batch_size = 4,\n",
    "                                        class_mode= \"categorical\")"
   ]
  },
  {
   "cell_type": "markdown",
   "id": "4510290d",
   "metadata": {},
   "source": [
    "# Variables"
   ]
  },
  {
   "cell_type": "code",
   "execution_count": null,
   "id": "b1126e44",
   "metadata": {},
   "outputs": [],
   "source": [
    "batch_size = 12\n",
    "num_classes = 2\n",
    "epochs = 5\n",
    "img_rows, img_cols = 100,100\n",
    "input_shape=(img_rows, img_cols,1)"
   ]
  },
  {
   "cell_type": "markdown",
   "id": "9d510f4b",
   "metadata": {},
   "source": [
    "# MAKE MODEL"
   ]
  },
  {
   "cell_type": "code",
   "execution_count": null,
   "id": "c50ac560",
   "metadata": {},
   "outputs": [],
   "source": [
    "model = Sequential()\n",
    "\n",
    "model.add(Conv2D(32, kernel_size=(3, 3),activation='relu',input_shape=input_shape))\n",
    "model.add(MaxPooling2D(pool_size=(2, 2)))\n",
    "model.add(Conv2D(8, (3, 3), activation='relu'))\n",
    "model.add(MaxPooling2D(pool_size=(2, 2)))\n",
    "model.add(Conv2D(8, (3, 3), activation='relu'))\n",
    "model.add(MaxPooling2D(pool_size=(2, 2)))\n",
    "model.add(Dropout(0.2))\n",
    "model.add(Flatten())\n",
    "model.add(Dense(256, activation='relu'))\n",
    "model.add(Dense(num_classes, activation='softmax'))\n",
    "\n",
    "model.compile(optimizer= 'adam',loss= 'categorical_crossentropy',metrics=['accuracy'])"
   ]
  },
  {
   "cell_type": "markdown",
   "id": "14774c46",
   "metadata": {},
   "source": [
    "# FIT"
   ]
  },
  {
   "cell_type": "code",
   "execution_count": null,
   "id": "f99c3f20",
   "metadata": {},
   "outputs": [],
   "source": [
    "model.fit(train,epochs = epochs,validation_data = test)"
   ]
  }
 ],
 "metadata": {
  "kernelspec": {
   "display_name": "Python 3 (ipykernel)",
   "language": "python",
   "name": "python3"
  },
  "language_info": {
   "codemirror_mode": {
    "name": "ipython",
    "version": 3
   },
   "file_extension": ".py",
   "mimetype": "text/x-python",
   "name": "python",
   "nbconvert_exporter": "python",
   "pygments_lexer": "ipython3",
   "version": "3.9.7"
  }
 },
 "nbformat": 4,
 "nbformat_minor": 5
}
