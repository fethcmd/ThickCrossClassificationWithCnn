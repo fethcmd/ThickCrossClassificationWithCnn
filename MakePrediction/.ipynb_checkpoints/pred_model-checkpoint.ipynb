{
 "cells": [
  {
   "cell_type": "code",
   "execution_count": null,
   "id": "a3c54b3d",
   "metadata": {},
   "outputs": [],
   "source": [
    "import tensorflow as tf\n",
    "import cv2 as cv\n",
    "import matplotlib.pyplot as plt"
   ]
  },
  {
   "cell_type": "code",
   "execution_count": null,
   "id": "8b071f93",
   "metadata": {},
   "outputs": [],
   "source": [
    "model = tf.keras.models.load_model('model99')"
   ]
  },
  {
   "cell_type": "code",
   "execution_count": null,
   "id": "8e1947f4",
   "metadata": {},
   "outputs": [],
   "source": [
    "model.summary()"
   ]
  },
  {
   "cell_type": "code",
   "execution_count": null,
   "id": "0a2a516f",
   "metadata": {},
   "outputs": [],
   "source": [
    "def prepareImgForModel(img):\n",
    "    img.resize((100,100))\n",
    "    img=img/255\n",
    "    img=img.reshape(1,100,100,1)\n",
    "    return img\n",
    "\n",
    "def thickOrCross(pred):\n",
    "    if pred[0][0] > pred[0][1]:\n",
    "        print(\"%\"+str(round(pred[0][0],2)*100)+\" CROSS\")\n",
    "    else:\n",
    "        print(\"%\"+str(round(pred[0][1],2)*100)+\" THICK\")"
   ]
  },
  {
   "cell_type": "code",
   "execution_count": null,
   "id": "b74051ec",
   "metadata": {
    "scrolled": false
   },
   "outputs": [],
   "source": [
    "img=cv.imread(\"img.jpg\",0) #read\n",
    "plt.imshow(img,cmap=\"gray\")\n",
    "img=prepareImgForModel(img) #prepare image for model #model want input=(100,100), between 0-1 values, shape=(1,100,100,1)\n",
    "pred=model.predict(img) #get prediction values list # something like [0.99,0.01]\n",
    "thickOrCross(pred) #choose higher potential value and show that"
   ]
  }
 ],
 "metadata": {
  "kernelspec": {
   "display_name": "Python 3 (ipykernel)",
   "language": "python",
   "name": "python3"
  },
  "language_info": {
   "codemirror_mode": {
    "name": "ipython",
    "version": 3
   },
   "file_extension": ".py",
   "mimetype": "text/x-python",
   "name": "python",
   "nbconvert_exporter": "python",
   "pygments_lexer": "ipython3",
   "version": "3.9.7"
  }
 },
 "nbformat": 4,
 "nbformat_minor": 5
}
